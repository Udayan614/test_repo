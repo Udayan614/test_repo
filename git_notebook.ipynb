{
 "cells": [
  {
   "cell_type": "code",
   "execution_count": 1,
   "id": "c264cfe2",
   "metadata": {},
   "outputs": [
    {
     "data": {
      "text/plain": [
       "'C:\\\\Users\\\\91984'"
      ]
     },
     "execution_count": 1,
     "metadata": {},
     "output_type": "execute_result"
    }
   ],
   "source": [
    "import os\n",
    "os.getcwd()"
   ]
  },
  {
   "cell_type": "code",
   "execution_count": 13,
   "id": "e48904b4",
   "metadata": {},
   "outputs": [
    {
     "name": "stderr",
     "output_type": "stream",
     "text": [
      "warning: in the working copy of 'git_notebook.ipynb', LF will be replaced by CRLF the next time Git touches it\n"
     ]
    },
    {
     "name": "stdout",
     "output_type": "stream",
     "text": [
      "[main 392127c] Auto-update\n",
      " 1 file changed, 10 insertions(+), 10 deletions(-)\n"
     ]
    },
    {
     "name": "stderr",
     "output_type": "stream",
     "text": [
      "To https://github.com/Udayan614/test_repo\n",
      "   15a0e57..392127c  main -> main\n"
     ]
    }
   ],
   "source": [
    "!git add git_notebook.ipynb\n",
    "!git commit -m \"Auto-update\"\n",
    "!git push\n"
   ]
  },
  {
   "cell_type": "code",
   "execution_count": 10,
   "id": "31cce1d3",
   "metadata": {},
   "outputs": [
    {
     "name": "stderr",
     "output_type": "stream",
     "text": [
      "remote: Repository not found.\n",
      "fatal: repository 'https://github.com/your-username/my-jupyter-project.git/' not found\n"
     ]
    }
   ],
   "source": [
    "# git push --set-upstream origin main\n"
   ]
  },
  {
   "cell_type": "code",
   "execution_count": 11,
   "id": "2924fc95",
   "metadata": {},
   "outputs": [],
   "source": [
    "a=5\n",
    "b=5\n",
    "c=a+b"
   ]
  },
  {
   "cell_type": "code",
   "execution_count": 12,
   "id": "004cf676",
   "metadata": {},
   "outputs": [
    {
     "data": {
      "text/plain": [
       "10"
      ]
     },
     "execution_count": 12,
     "metadata": {},
     "output_type": "execute_result"
    }
   ],
   "source": [
    "c"
   ]
  },
  {
   "cell_type": "code",
   "execution_count": 16,
   "id": "51cffd8d",
   "metadata": {},
   "outputs": [
    {
     "name": "stdout",
     "output_type": "stream",
     "text": [
      "Defaulting to user installation because normal site-packages is not writeable\n",
      "Requirement already satisfied: pandas in d:\\programdata\\anaconda3\\lib\\site-packages (1.5.3)\n",
      "Requirement already satisfied: python-dateutil>=2.8.1 in d:\\programdata\\anaconda3\\lib\\site-packages (from pandas) (2.8.2)\n",
      "Requirement already satisfied: pytz>=2020.1 in d:\\programdata\\anaconda3\\lib\\site-packages (from pandas) (2022.7)\n",
      "Requirement already satisfied: numpy>=1.21.0 in c:\\users\\91984\\appdata\\roaming\\python\\python311\\site-packages (from pandas) (2.2.4)\n",
      "Requirement already satisfied: six>=1.5 in d:\\programdata\\anaconda3\\lib\\site-packages (from python-dateutil>=2.8.1->pandas) (1.16.0)\n"
     ]
    },
    {
     "name": "stderr",
     "output_type": "stream",
     "text": [
      "WARNING: Skipping C:\\Users\\91984\\AppData\\Roaming\\Python\\Python311\\site-packages\\torch-2.6.0.dist-info due to invalid metadata entry 'name'\n",
      "WARNING: Skipping C:\\Users\\91984\\AppData\\Roaming\\Python\\Python311\\site-packages\\torch-2.6.0.dist-info due to invalid metadata entry 'name'\n",
      "WARNING: Skipping C:\\Users\\91984\\AppData\\Roaming\\Python\\Python311\\site-packages\\torch-2.6.0.dist-info due to invalid metadata entry 'name'\n",
      "WARNING: Skipping C:\\Users\\91984\\AppData\\Roaming\\Python\\Python311\\site-packages\\torch-2.6.0.dist-info due to invalid metadata entry 'name'\n"
     ]
    }
   ],
   "source": [
    "!pip install pandas"
   ]
  },
  {
   "cell_type": "code",
   "execution_count": null,
   "id": "c7dac135",
   "metadata": {},
   "outputs": [],
   "source": [
    "!pip install --upgrade pandas numpy\n"
   ]
  },
  {
   "cell_type": "code",
   "execution_count": null,
   "id": "91647956",
   "metadata": {},
   "outputs": [],
   "source": []
  }
 ],
 "metadata": {
  "kernelspec": {
   "display_name": "Python 3 (ipykernel)",
   "language": "python",
   "name": "python3"
  },
  "language_info": {
   "codemirror_mode": {
    "name": "ipython",
    "version": 3
   },
   "file_extension": ".py",
   "mimetype": "text/x-python",
   "name": "python",
   "nbconvert_exporter": "python",
   "pygments_lexer": "ipython3",
   "version": "3.11.4"
  }
 },
 "nbformat": 4,
 "nbformat_minor": 5
}
